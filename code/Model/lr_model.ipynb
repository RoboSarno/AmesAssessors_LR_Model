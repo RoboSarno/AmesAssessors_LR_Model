{
  "cells": [
    {
      "cell_type": "markdown",
      "id": "d9e7fce5-0c70-4154-88e1-2e3e98d039a3",
      "metadata": {
        "id": "d9e7fce5-0c70-4154-88e1-2e3e98d039a3",
        "tags": []
      },
      "source": [
        "## Import Libraries"
      ]
    },
    {
      "cell_type": "code",
      "execution_count": 58,
      "id": "9088ec81-4e66-43a2-b43e-81164a54b623",
      "metadata": {
        "id": "9088ec81-4e66-43a2-b43e-81164a54b623"
      },
      "outputs": [],
      "source": [
        "import pandas as pd\n",
        "import numpy as np\n",
        "\n",
        "from pandas.api.types import is_string_dtype, is_numeric_dtype\n",
        "\n",
        "from sklearn.model_selection import train_test_split, GridSearchCV\n",
        "from sklearn.metrics import r2_score, mean_squared_error\n",
        "\n",
        "from sklearn.compose import ColumnTransformer\n",
        "from sklearn.preprocessing import PolynomialFeatures, OneHotEncoder, StandardScaler\n",
        "from sklearn.feature_selection import RFE\n",
        "\n",
        "from sklearn.impute import KNNImputer, SimpleImputer\n",
        "\n",
        "from sklearn.linear_model import LinearRegression, LassoCV, RidgeCV, Lasso, Ridge, ElasticNet\n",
        "from sklearn.pipeline import Pipeline\n",
        "\n",
        "\n",
        "import sys\n",
        "import os\n",
        "\n",
        "if not sys.warnoptions:\n",
        "    import warnings\n",
        "    warnings.simplefilter(\"ignore\")\n",
        "    \n",
        "if not sys.warnoptions:\n",
        "    warnings.simplefilter(\"ignore\")\n",
        "    os.environ[\"PYTHONWARNINGS\"] = \"ignore\" \n",
        "    "
      ]
    },
    {
      "cell_type": "markdown",
      "id": "c08c25b0-c446-4331-ad3b-1175bd04597d",
      "metadata": {
        "id": "c08c25b0-c446-4331-ad3b-1175bd04597d",
        "tags": []
      },
      "source": [
        "## Import Data"
      ]
    },
    {
      "cell_type": "code",
      "execution_count": 59,
      "id": "5d3b4f85-636e-45c5-8ff2-34465d8a7dd8",
      "metadata": {
        "id": "5d3b4f85-636e-45c5-8ff2-34465d8a7dd8"
      },
      "outputs": [],
      "source": [
        "train = pd.read_csv('../../datasets/cleaned_data/train_preproc.csv')\n",
        "test = pd.read_csv('../../datasets/cleaned_data/test_preproc.csv')"
      ]
    },
    {
      "cell_type": "markdown",
      "id": "605d8026",
      "metadata": {
        "id": "605d8026"
      },
      "source": [
        "## Get Model Preprocessing Features"
      ]
    },
    {
      "cell_type": "code",
      "execution_count": 63,
      "id": "Ac5jRDKwDpX-",
      "metadata": {
        "id": "Ac5jRDKwDpX-"
      },
      "outputs": [],
      "source": [
        "numeric = list(set(['overall_qual', 'year_built', 'year_remod/add',  'mas_vnr_area', 'bsmtfin_sf_1', 'total_bsmt_sf', '1st_flr_sf', 'gr_liv_area', 'full_bath', 'totrms_abvgrd', 'fireplaces', 'garage_cars', 'garage_area', 'actual_totrms_abvgrd', 'g_gr_area', 'total_sf', 'actual_totrms_abvgrd', 'g_gr_area', 'total_sf'])) \n",
        "categorical = ['neighborhood']"
      ]
    },
    {
      "cell_type": "markdown",
      "id": "43e8c730",
      "metadata": {
        "id": "43e8c730"
      },
      "source": [
        "## Train Test Split"
      ]
    },
    {
      "cell_type": "code",
      "execution_count": 64,
      "id": "fcf1c554-efb6-4449-8a9d-bd3bc8f33e01",
      "metadata": {
        "id": "fcf1c554-efb6-4449-8a9d-bd3bc8f33e01",
        "tags": []
      },
      "outputs": [],
      "source": [
        "y = train['saleprice']\n",
        "X = train[numeric + categorical]\n",
        "\n",
        "X_train, X_val, y_train, y_val = train_test_split(X, y, test_size=.30, random_state=2000)"
      ]
    },
    {
      "cell_type": "markdown",
      "id": "9dead343",
      "metadata": {
        "id": "9dead343"
      },
      "source": [
        "## Baseline Model"
      ]
    },
    {
      "cell_type": "code",
      "execution_count": 65,
      "id": "e8f038f6",
      "metadata": {
        "id": "e8f038f6"
      },
      "outputs": [],
      "source": [
        "from sklearn.dummy import DummyRegressor\n",
        "from sklearn.metrics import mean_squared_error\n",
        "\n",
        "# create a dummy regressor\n",
        "dummy_reg = DummyRegressor(strategy='mean')\n",
        "# fit it on the training set\n",
        "dummy_reg.fit(X_train, y_train)\n",
        "# make predictions on the test set\n",
        "y_pred = dummy_reg.predict(X_val)"
      ]
    },
    {
      "cell_type": "code",
      "execution_count": 66,
      "id": "Kp1_J7rPY4aP",
      "metadata": {
        "colab": {
          "base_uri": "https://localhost:8080/"
        },
        "id": "Kp1_J7rPY4aP",
        "outputId": "dcaf5e6b-dd9d-485e-e3a8-8219ee06a9f3"
      },
      "outputs": [
        {
          "data": {
            "text/plain": [
              "-0.004601670112839962"
            ]
          },
          "execution_count": 66,
          "metadata": {},
          "output_type": "execute_result"
        }
      ],
      "source": [
        "r2_score(y_val, y_pred) # how much of the varience that is explained by the model"
      ]
    },
    {
      "cell_type": "code",
      "execution_count": 67,
      "id": "yDNQn8lQYwPo",
      "metadata": {
        "colab": {
          "base_uri": "https://localhost:8080/"
        },
        "id": "yDNQn8lQYwPo",
        "outputId": "db66d12d-59a5-4843-b6eb-d853191339ef"
      },
      "outputs": [
        {
          "data": {
            "text/plain": [
              "83671.63553408739"
            ]
          },
          "execution_count": 67,
          "metadata": {},
          "output_type": "execute_result"
        }
      ],
      "source": [
        "# calculate root mean squared error\n",
        "mean_squared_error(y_val, y_pred, squared=False)"
      ]
    },
    {
      "cell_type": "markdown",
      "id": "af3a0c99",
      "metadata": {
        "id": "af3a0c99"
      },
      "source": [
        "## Feature Engineering and Model Testing"
      ]
    },
    {
      "cell_type": "code",
      "execution_count": 69,
      "id": "8ff705ba",
      "metadata": {
        "id": "8ff705ba"
      },
      "outputs": [],
      "source": [
        "ct_poly = ColumnTransformer([\n",
        "    ('poly', PolynomialFeatures(), [0,1,2,3,4,5,6,7,8,9,10,11,12,13,14,15]), \n",
        "], remainder = 'passthrough')\n",
        "\n",
        "ct_ohe = ColumnTransformer([\n",
        "    ('ohe', OneHotEncoder(handle_unknown='ignore', sparse=False), [16]),# one hot encode categorical columns\n",
        "], remainder = 'drop')"
      ]
    },
    {
      "cell_type": "markdown",
      "id": "14715d6c",
      "metadata": {
        "id": "14715d6c"
      },
      "source": [
        "## Lasso Model Hyperparam Tuning"
      ]
    },
    {
      "cell_type": "code",
      "execution_count": 70,
      "id": "8acf584f",
      "metadata": {
        "colab": {
          "base_uri": "https://localhost:8080/"
        },
        "id": "8acf584f",
        "outputId": "e676d231-9b04-4dcd-e3d7-f9fd5d3fa1cf"
      },
      "outputs": [
        {
          "name": "stdout",
          "output_type": "stream",
          "text": [
            "Train: 0.7856091041887385, Test: 0.661367659018561, Best Score: 0.5789848305518114\n"
          ]
        },
        {
          "name": "stderr",
          "output_type": "stream",
          "text": [
            "/usr/local/lib/python3.7/dist-packages/sklearn/linear_model/_base.py:145: FutureWarning: 'normalize' was deprecated in version 1.0 and will be removed in 1.2.\n",
            "If you wish to scale the data, use Pipeline with a StandardScaler in a preprocessing stage. To reproduce the previous behavior:\n",
            "\n",
            "from sklearn.pipeline import make_pipeline\n",
            "\n",
            "model = make_pipeline(StandardScaler(with_mean=False), Lasso())\n",
            "\n",
            "If you wish to pass a sample_weight parameter, you need to pass it as a fit parameter to each step of the pipeline as follows:\n",
            "\n",
            "kwargs = {s[0] + '__sample_weight': sample_weight for s in model.steps}\n",
            "model.fit(X, y, **kwargs)\n",
            "\n",
            "Set parameter alpha to: original_alpha * np.sqrt(n_samples). \n",
            "  FutureWarning,\n"
          ]
        }
      ],
      "source": [
        "lasso_p_params = {\n",
        "    'poly__poly__degree': [1, 2],\n",
        "    'poly__poly__include_bias': [True, False],\n",
        "    'poly__poly__interaction_only': [True, False],\n",
        "    'ohe__ohe__handle_unknown': ['ignore'],\n",
        "    'ohe__ohe__sparse': [True, False],\n",
        "    'l__alpha': np.logspace(1, 10, 10),\n",
        "    'l__fit_intercept': [True, False],\n",
        "    'l__normalize': [True, False]\n",
        "}\n",
        "\n",
        "lasso_pipe = Pipeline([\n",
        "            ('poly', ct_poly), \n",
        "            ('ohe', ct_ohe), \n",
        "            ('ss', StandardScaler(with_mean=False)),\n",
        "            ('l', Lasso()), # use lasso to optimize parameter selection\n",
        "])\n",
        "\n",
        "lasso_gs = GridSearchCV( # use gridsearch to optimize feature selection\n",
        "    lasso_pipe, \n",
        "    lasso_p_params,\n",
        "    cv = 4,\n",
        "    n_jobs = -1,\n",
        "    error_score='raise' \n",
        ")\n",
        "lasso_gs.fit(X_train, y_train) \n",
        "print(f'Train: {lasso_gs.score(X_train, y_train)}, Test: {lasso_gs.score(X_val, y_val)}, Best Score: {lasso_gs.best_score_}') "
      ]
    },
    {
      "cell_type": "code",
      "execution_count": 71,
      "id": "AK8Lt1mlMkCJ",
      "metadata": {
        "colab": {
          "base_uri": "https://localhost:8080/"
        },
        "id": "AK8Lt1mlMkCJ",
        "outputId": "860d9f5f-d257-4f2d-ed52-4314b1677870"
      },
      "outputs": [
        {
          "data": {
            "text/plain": [
              "Pipeline(steps=[('poly',\n",
              "                 ColumnTransformer(remainder='passthrough',\n",
              "                                   transformers=[('poly',\n",
              "                                                  PolynomialFeatures(include_bias=False,\n",
              "                                                                     interaction_only=True),\n",
              "                                                  [0, 1, 2, 3, 4, 5, 6, 7, 8, 9,\n",
              "                                                   10, 11, 12, 13, 14, 15])])),\n",
              "                ('ohe',\n",
              "                 ColumnTransformer(transformers=[('ohe',\n",
              "                                                  OneHotEncoder(handle_unknown='ignore'),\n",
              "                                                  [16])])),\n",
              "                ('ss', StandardScaler(with_mean=False)),\n",
              "                ('l', Lasso(alpha=10.0, normalize=True))])"
            ]
          },
          "execution_count": 71,
          "metadata": {},
          "output_type": "execute_result"
        }
      ],
      "source": [
        "lasso_gs.best_estimator_"
      ]
    },
    {
      "cell_type": "markdown",
      "id": "9V1XHhpHLxcD",
      "metadata": {
        "id": "9V1XHhpHLxcD"
      },
      "source": [
        "### Scoring"
      ]
    },
    {
      "cell_type": "code",
      "execution_count": 72,
      "id": "4otzXrTsLxCO",
      "metadata": {
        "id": "4otzXrTsLxCO"
      },
      "outputs": [],
      "source": [
        "preds_y = lasso_gs.predict(X_val)"
      ]
    },
    {
      "cell_type": "code",
      "execution_count": 73,
      "id": "Guve3ZZxMb7C",
      "metadata": {
        "colab": {
          "base_uri": "https://localhost:8080/"
        },
        "id": "Guve3ZZxMb7C",
        "outputId": "c58ab9cf-9617-4f21-c60f-ac78f8dba3b1"
      },
      "outputs": [
        {
          "data": {
            "text/plain": [
              "0.661367659018561"
            ]
          },
          "execution_count": 73,
          "metadata": {},
          "output_type": "execute_result"
        }
      ],
      "source": [
        "r2_score(y_val, preds_y) # how much of the varience that is explained by the model"
      ]
    },
    {
      "cell_type": "code",
      "execution_count": 74,
      "id": "zCNIfrgeMco5",
      "metadata": {
        "colab": {
          "base_uri": "https://localhost:8080/"
        },
        "id": "zCNIfrgeMco5",
        "outputId": "71f88aac-12b0-4a91-a4d7-d35a1b5c1a79"
      },
      "outputs": [
        {
          "data": {
            "text/plain": [
              "48578.659529746255"
            ]
          },
          "execution_count": 74,
          "metadata": {},
          "output_type": "execute_result"
        }
      ],
      "source": [
        "mean_squared_error(y_val, preds_y, squared=False)"
      ]
    },
    {
      "cell_type": "code",
      "execution_count": 75,
      "id": "y6Fqb0JMNDqz",
      "metadata": {
        "id": "y6Fqb0JMNDqz"
      },
      "outputs": [],
      "source": [
        "columns = lasso_gs.best_estimator_.named_steps['poly'].get_feature_names_out()\n",
        "coefs = lasso_gs.best_estimator_.named_steps['l'].coef_"
      ]
    },
    {
      "cell_type": "code",
      "execution_count": 76,
      "id": "fKT-4xsiNYNI",
      "metadata": {
        "id": "fKT-4xsiNYNI"
      },
      "outputs": [],
      "source": [
        "temp = pd.DataFrame(zip(columns, coefs))\n",
        "temp = temp[temp[1] != 0]"
      ]
    },
    {
      "cell_type": "code",
      "execution_count": 77,
      "id": "_8Izj840NZkt",
      "metadata": {
        "colab": {
          "base_uri": "https://localhost:8080/",
          "height": 423
        },
        "id": "_8Izj840NZkt",
        "outputId": "0bfa583d-8e2b-4008-f446-bb049974632b"
      },
      "outputs": [
        {
          "data": {
            "text/html": [
              "\n",
              "  <div id=\"df-26abc40f-6aff-4f85-8888-56b782d5e6d0\">\n",
              "    <div class=\"colab-df-container\">\n",
              "      <div>\n",
              "<style scoped>\n",
              "    .dataframe tbody tr th:only-of-type {\n",
              "        vertical-align: middle;\n",
              "    }\n",
              "\n",
              "    .dataframe tbody tr th {\n",
              "        vertical-align: top;\n",
              "    }\n",
              "\n",
              "    .dataframe thead th {\n",
              "        text-align: right;\n",
              "    }\n",
              "</style>\n",
              "<table border=\"1\" class=\"dataframe\">\n",
              "  <thead>\n",
              "    <tr style=\"text-align: right;\">\n",
              "      <th></th>\n",
              "      <th>0</th>\n",
              "      <th>1</th>\n",
              "    </tr>\n",
              "  </thead>\n",
              "  <tbody>\n",
              "    <tr>\n",
              "      <th>15</th>\n",
              "      <td>poly__garage_cars</td>\n",
              "      <td>-11145.905906</td>\n",
              "    </tr>\n",
              "    <tr>\n",
              "      <th>49</th>\n",
              "      <td>poly__mas_vnr_area actual_totrms_abvgrd</td>\n",
              "      <td>-8942.653565</td>\n",
              "    </tr>\n",
              "    <tr>\n",
              "      <th>5</th>\n",
              "      <td>poly__fireplaces</td>\n",
              "      <td>-7978.153239</td>\n",
              "    </tr>\n",
              "    <tr>\n",
              "      <th>3</th>\n",
              "      <td>poly__1st_flr_sf</td>\n",
              "      <td>-6252.783844</td>\n",
              "    </tr>\n",
              "    <tr>\n",
              "      <th>31</th>\n",
              "      <td>poly__overall_qual mas_vnr_area</td>\n",
              "      <td>-4765.558000</td>\n",
              "    </tr>\n",
              "    <tr>\n",
              "      <th>...</th>\n",
              "      <td>...</td>\n",
              "      <td>...</td>\n",
              "    </tr>\n",
              "    <tr>\n",
              "      <th>86</th>\n",
              "      <td>poly__fireplaces total_bsmt_sf</td>\n",
              "      <td>302.464289</td>\n",
              "    </tr>\n",
              "    <tr>\n",
              "      <th>95</th>\n",
              "      <td>poly__full_bath total_bsmt_sf</td>\n",
              "      <td>530.267382</td>\n",
              "    </tr>\n",
              "    <tr>\n",
              "      <th>116</th>\n",
              "      <td>poly__bsmtfin_sf_1 total_bsmt_sf</td>\n",
              "      <td>544.801600</td>\n",
              "    </tr>\n",
              "    <tr>\n",
              "      <th>123</th>\n",
              "      <td>poly__totrms_abvgrd total_sf</td>\n",
              "      <td>964.692235</td>\n",
              "    </tr>\n",
              "    <tr>\n",
              "      <th>37</th>\n",
              "      <td>poly__overall_qual g_gr_area</td>\n",
              "      <td>1409.190690</td>\n",
              "    </tr>\n",
              "  </tbody>\n",
              "</table>\n",
              "<p>119 rows × 2 columns</p>\n",
              "</div>\n",
              "      <button class=\"colab-df-convert\" onclick=\"convertToInteractive('df-26abc40f-6aff-4f85-8888-56b782d5e6d0')\"\n",
              "              title=\"Convert this dataframe to an interactive table.\"\n",
              "              style=\"display:none;\">\n",
              "        \n",
              "  <svg xmlns=\"http://www.w3.org/2000/svg\" height=\"24px\"viewBox=\"0 0 24 24\"\n",
              "       width=\"24px\">\n",
              "    <path d=\"M0 0h24v24H0V0z\" fill=\"none\"/>\n",
              "    <path d=\"M18.56 5.44l.94 2.06.94-2.06 2.06-.94-2.06-.94-.94-2.06-.94 2.06-2.06.94zm-11 1L8.5 8.5l.94-2.06 2.06-.94-2.06-.94L8.5 2.5l-.94 2.06-2.06.94zm10 10l.94 2.06.94-2.06 2.06-.94-2.06-.94-.94-2.06-.94 2.06-2.06.94z\"/><path d=\"M17.41 7.96l-1.37-1.37c-.4-.4-.92-.59-1.43-.59-.52 0-1.04.2-1.43.59L10.3 9.45l-7.72 7.72c-.78.78-.78 2.05 0 2.83L4 21.41c.39.39.9.59 1.41.59.51 0 1.02-.2 1.41-.59l7.78-7.78 2.81-2.81c.8-.78.8-2.07 0-2.86zM5.41 20L4 18.59l7.72-7.72 1.47 1.35L5.41 20z\"/>\n",
              "  </svg>\n",
              "      </button>\n",
              "      \n",
              "  <style>\n",
              "    .colab-df-container {\n",
              "      display:flex;\n",
              "      flex-wrap:wrap;\n",
              "      gap: 12px;\n",
              "    }\n",
              "\n",
              "    .colab-df-convert {\n",
              "      background-color: #E8F0FE;\n",
              "      border: none;\n",
              "      border-radius: 50%;\n",
              "      cursor: pointer;\n",
              "      display: none;\n",
              "      fill: #1967D2;\n",
              "      height: 32px;\n",
              "      padding: 0 0 0 0;\n",
              "      width: 32px;\n",
              "    }\n",
              "\n",
              "    .colab-df-convert:hover {\n",
              "      background-color: #E2EBFA;\n",
              "      box-shadow: 0px 1px 2px rgba(60, 64, 67, 0.3), 0px 1px 3px 1px rgba(60, 64, 67, 0.15);\n",
              "      fill: #174EA6;\n",
              "    }\n",
              "\n",
              "    [theme=dark] .colab-df-convert {\n",
              "      background-color: #3B4455;\n",
              "      fill: #D2E3FC;\n",
              "    }\n",
              "\n",
              "    [theme=dark] .colab-df-convert:hover {\n",
              "      background-color: #434B5C;\n",
              "      box-shadow: 0px 1px 3px 1px rgba(0, 0, 0, 0.15);\n",
              "      filter: drop-shadow(0px 1px 2px rgba(0, 0, 0, 0.3));\n",
              "      fill: #FFFFFF;\n",
              "    }\n",
              "  </style>\n",
              "\n",
              "      <script>\n",
              "        const buttonEl =\n",
              "          document.querySelector('#df-26abc40f-6aff-4f85-8888-56b782d5e6d0 button.colab-df-convert');\n",
              "        buttonEl.style.display =\n",
              "          google.colab.kernel.accessAllowed ? 'block' : 'none';\n",
              "\n",
              "        async function convertToInteractive(key) {\n",
              "          const element = document.querySelector('#df-26abc40f-6aff-4f85-8888-56b782d5e6d0');\n",
              "          const dataTable =\n",
              "            await google.colab.kernel.invokeFunction('convertToInteractive',\n",
              "                                                     [key], {});\n",
              "          if (!dataTable) return;\n",
              "\n",
              "          const docLinkHtml = 'Like what you see? Visit the ' +\n",
              "            '<a target=\"_blank\" href=https://colab.research.google.com/notebooks/data_table.ipynb>data table notebook</a>'\n",
              "            + ' to learn more about interactive tables.';\n",
              "          element.innerHTML = '';\n",
              "          dataTable['output_type'] = 'display_data';\n",
              "          await google.colab.output.renderOutput(dataTable, element);\n",
              "          const docLink = document.createElement('div');\n",
              "          docLink.innerHTML = docLinkHtml;\n",
              "          element.appendChild(docLink);\n",
              "        }\n",
              "      </script>\n",
              "    </div>\n",
              "  </div>\n",
              "  "
            ],
            "text/plain": [
              "                                           0             1\n",
              "15                         poly__garage_cars -11145.905906\n",
              "49   poly__mas_vnr_area actual_totrms_abvgrd  -8942.653565\n",
              "5                           poly__fireplaces  -7978.153239\n",
              "3                           poly__1st_flr_sf  -6252.783844\n",
              "31           poly__overall_qual mas_vnr_area  -4765.558000\n",
              "..                                       ...           ...\n",
              "86            poly__fireplaces total_bsmt_sf    302.464289\n",
              "95             poly__full_bath total_bsmt_sf    530.267382\n",
              "116         poly__bsmtfin_sf_1 total_bsmt_sf    544.801600\n",
              "123             poly__totrms_abvgrd total_sf    964.692235\n",
              "37              poly__overall_qual g_gr_area   1409.190690\n",
              "\n",
              "[119 rows x 2 columns]"
            ]
          },
          "execution_count": 77,
          "metadata": {},
          "output_type": "execute_result"
        }
      ],
      "source": [
        "temp.sort_values(by=1)"
      ]
    },
    {
      "cell_type": "markdown",
      "id": "vPZxcS2vLYcE",
      "metadata": {
        "id": "vPZxcS2vLYcE"
      },
      "source": [
        "## Ridge Model Hyperparam Tuning"
      ]
    },
    {
      "cell_type": "code",
      "execution_count": 78,
      "id": "vuqOHKFXLPYx",
      "metadata": {
        "colab": {
          "base_uri": "https://localhost:8080/"
        },
        "id": "vuqOHKFXLPYx",
        "outputId": "32a25755-6edc-4cbf-f627-f7b18e0c4ca7"
      },
      "outputs": [
        {
          "name": "stdout",
          "output_type": "stream",
          "text": [
            "Train: 0.7887936794684451, Test: 0.6570953560959208, Best Score: 0.5833540972137253\n"
          ]
        },
        {
          "name": "stderr",
          "output_type": "stream",
          "text": [
            "/usr/local/lib/python3.7/dist-packages/sklearn/linear_model/_base.py:155: FutureWarning: 'normalize' was deprecated in version 1.0 and will be removed in 1.2. Please leave the normalize parameter to its default value to silence this warning. The default behavior of this estimator is to not do any normalization. If normalization is needed please use sklearn.preprocessing.StandardScaler instead.\n",
            "  FutureWarning,\n"
          ]
        }
      ],
      "source": [
        "ridge_p_params = {\n",
        "    'poly__poly__degree': [1, 2, 3],\n",
        "    'poly__poly__include_bias': [True, False],\n",
        "    'poly__poly__interaction_only': [True, False],\n",
        "    'r__alpha': np.logspace(1, 10, 20),\n",
        "    'r__fit_intercept': [True, False],\n",
        "    'r__normalize': [True, False],\n",
        "    'r__solver': ['auto'],\n",
        "}\n",
        "\n",
        "ridge_pipe = Pipeline([\n",
        "            ('poly', ct_poly), \n",
        "            ('ohe', ct_ohe), \n",
        "            ('ss', StandardScaler(with_mean=False)),\n",
        "            ('r', Ridge()), # use lasso to optimize parameter selection\n",
        "])\n",
        "\n",
        "ridge_gs = GridSearchCV( # use gridsearch to optimize feature selection\n",
        "    ridge_pipe, \n",
        "    ridge_p_params,\n",
        "    cv = 4,\n",
        "    n_jobs = -1\n",
        ")\n",
        "ridge_gs.fit(X_train, y_train)\n",
        "print(f'Train: {ridge_gs.score(X_train, y_train)}, Test: {ridge_gs.score(X_val, y_val)}, Best Score: {ridge_gs.best_score_}') "
      ]
    },
    {
      "cell_type": "code",
      "execution_count": 79,
      "id": "T_G0Jv0qMlXI",
      "metadata": {
        "colab": {
          "base_uri": "https://localhost:8080/"
        },
        "id": "T_G0Jv0qMlXI",
        "outputId": "fe5b82b8-a3eb-4422-ddd1-ff904b8e7e07"
      },
      "outputs": [
        {
          "data": {
            "text/plain": [
              "Pipeline(steps=[('poly',\n",
              "                 ColumnTransformer(remainder='passthrough',\n",
              "                                   transformers=[('poly',\n",
              "                                                  PolynomialFeatures(include_bias=False,\n",
              "                                                                     interaction_only=True),\n",
              "                                                  [0, 1, 2, 3, 4, 5, 6, 7, 8, 9,\n",
              "                                                   10, 11, 12, 13, 14, 15])])),\n",
              "                ('ohe',\n",
              "                 ColumnTransformer(transformers=[('ohe',\n",
              "                                                  OneHotEncoder(handle_unknown='ignore',\n",
              "                                                                sparse=False),\n",
              "                                                  [16])])),\n",
              "                ('ss', StandardScaler(with_mean=False)),\n",
              "                ('r', Ridge(alpha=88.58667904100822, normalize=False))])"
            ]
          },
          "execution_count": 79,
          "metadata": {},
          "output_type": "execute_result"
        }
      ],
      "source": [
        "ridge_gs.best_estimator_"
      ]
    },
    {
      "cell_type": "markdown",
      "id": "ts_uxlDeLugj",
      "metadata": {
        "id": "ts_uxlDeLugj"
      },
      "source": [
        "### Scoring"
      ]
    },
    {
      "cell_type": "code",
      "execution_count": 80,
      "id": "ZmRZQyVuLwI8",
      "metadata": {
        "id": "ZmRZQyVuLwI8"
      },
      "outputs": [],
      "source": [
        "preds_y = ridge_gs.predict(X_val)"
      ]
    },
    {
      "cell_type": "code",
      "execution_count": 81,
      "id": "k7z21ywoMzHQ",
      "metadata": {
        "colab": {
          "base_uri": "https://localhost:8080/"
        },
        "id": "k7z21ywoMzHQ",
        "outputId": "39c23493-91c2-43f7-9fbd-79511f46d690"
      },
      "outputs": [
        {
          "data": {
            "text/plain": [
              "0.6570953560959208"
            ]
          },
          "execution_count": 81,
          "metadata": {},
          "output_type": "execute_result"
        }
      ],
      "source": [
        "r2_score(y_val, preds_y) # how much of the varience that is explained by the model"
      ]
    },
    {
      "cell_type": "code",
      "execution_count": 82,
      "id": "aa7huVSQM1EW",
      "metadata": {
        "colab": {
          "base_uri": "https://localhost:8080/"
        },
        "id": "aa7huVSQM1EW",
        "outputId": "6c03a38f-bb3f-430c-d394-c74e62a6d3a2"
      },
      "outputs": [
        {
          "data": {
            "text/plain": [
              "48884.14163134596"
            ]
          },
          "execution_count": 82,
          "metadata": {},
          "output_type": "execute_result"
        }
      ],
      "source": [
        "mean_squared_error(y_val, preds_y, squared=False)"
      ]
    },
    {
      "cell_type": "code",
      "execution_count": 83,
      "id": "76KffPh3NBnd",
      "metadata": {
        "id": "76KffPh3NBnd"
      },
      "outputs": [],
      "source": [
        "columns = ridge_gs.best_estimator_.named_steps['poly'].get_feature_names_out()\n",
        "coefs = ridge_gs.best_estimator_.named_steps['r'].coef_"
      ]
    },
    {
      "cell_type": "code",
      "execution_count": 84,
      "id": "P9Ga582gNU6j",
      "metadata": {
        "id": "P9Ga582gNU6j"
      },
      "outputs": [],
      "source": [
        "temp = pd.DataFrame(zip(columns, coefs))\n",
        "temp = temp[temp[1] != 0]"
      ]
    },
    {
      "cell_type": "code",
      "execution_count": 85,
      "id": "V8FGkneONVWc",
      "metadata": {
        "colab": {
          "base_uri": "https://localhost:8080/",
          "height": 423
        },
        "id": "V8FGkneONVWc",
        "outputId": "5706d73a-8253-403f-b7d1-f07efb345f85"
      },
      "outputs": [
        {
          "data": {
            "text/html": [
              "\n",
              "  <div id=\"df-55f37b63-fd4a-47ae-9360-be3af293fc8f\">\n",
              "    <div class=\"colab-df-container\">\n",
              "      <div>\n",
              "<style scoped>\n",
              "    .dataframe tbody tr th:only-of-type {\n",
              "        vertical-align: middle;\n",
              "    }\n",
              "\n",
              "    .dataframe tbody tr th {\n",
              "        vertical-align: top;\n",
              "    }\n",
              "\n",
              "    .dataframe thead th {\n",
              "        text-align: right;\n",
              "    }\n",
              "</style>\n",
              "<table border=\"1\" class=\"dataframe\">\n",
              "  <thead>\n",
              "    <tr style=\"text-align: right;\">\n",
              "      <th></th>\n",
              "      <th>0</th>\n",
              "      <th>1</th>\n",
              "    </tr>\n",
              "  </thead>\n",
              "  <tbody>\n",
              "    <tr>\n",
              "      <th>15</th>\n",
              "      <td>poly__garage_cars</td>\n",
              "      <td>-13980.100429</td>\n",
              "    </tr>\n",
              "    <tr>\n",
              "      <th>49</th>\n",
              "      <td>poly__mas_vnr_area actual_totrms_abvgrd</td>\n",
              "      <td>-12712.508405</td>\n",
              "    </tr>\n",
              "    <tr>\n",
              "      <th>5</th>\n",
              "      <td>poly__fireplaces</td>\n",
              "      <td>-9646.965625</td>\n",
              "    </tr>\n",
              "    <tr>\n",
              "      <th>3</th>\n",
              "      <td>poly__1st_flr_sf</td>\n",
              "      <td>-7410.879185</td>\n",
              "    </tr>\n",
              "    <tr>\n",
              "      <th>108</th>\n",
              "      <td>poly__g_gr_area bsmtfin_sf_1</td>\n",
              "      <td>-6565.607046</td>\n",
              "    </tr>\n",
              "    <tr>\n",
              "      <th>...</th>\n",
              "      <td>...</td>\n",
              "      <td>...</td>\n",
              "    </tr>\n",
              "    <tr>\n",
              "      <th>95</th>\n",
              "      <td>poly__full_bath total_bsmt_sf</td>\n",
              "      <td>-96.436738</td>\n",
              "    </tr>\n",
              "    <tr>\n",
              "      <th>116</th>\n",
              "      <td>poly__bsmtfin_sf_1 total_bsmt_sf</td>\n",
              "      <td>-82.778781</td>\n",
              "    </tr>\n",
              "    <tr>\n",
              "      <th>86</th>\n",
              "      <td>poly__fireplaces total_bsmt_sf</td>\n",
              "      <td>-32.214315</td>\n",
              "    </tr>\n",
              "    <tr>\n",
              "      <th>123</th>\n",
              "      <td>poly__totrms_abvgrd total_sf</td>\n",
              "      <td>591.526952</td>\n",
              "    </tr>\n",
              "    <tr>\n",
              "      <th>37</th>\n",
              "      <td>poly__overall_qual g_gr_area</td>\n",
              "      <td>1207.568354</td>\n",
              "    </tr>\n",
              "  </tbody>\n",
              "</table>\n",
              "<p>137 rows × 2 columns</p>\n",
              "</div>\n",
              "      <button class=\"colab-df-convert\" onclick=\"convertToInteractive('df-55f37b63-fd4a-47ae-9360-be3af293fc8f')\"\n",
              "              title=\"Convert this dataframe to an interactive table.\"\n",
              "              style=\"display:none;\">\n",
              "        \n",
              "  <svg xmlns=\"http://www.w3.org/2000/svg\" height=\"24px\"viewBox=\"0 0 24 24\"\n",
              "       width=\"24px\">\n",
              "    <path d=\"M0 0h24v24H0V0z\" fill=\"none\"/>\n",
              "    <path d=\"M18.56 5.44l.94 2.06.94-2.06 2.06-.94-2.06-.94-.94-2.06-.94 2.06-2.06.94zm-11 1L8.5 8.5l.94-2.06 2.06-.94-2.06-.94L8.5 2.5l-.94 2.06-2.06.94zm10 10l.94 2.06.94-2.06 2.06-.94-2.06-.94-.94-2.06-.94 2.06-2.06.94z\"/><path d=\"M17.41 7.96l-1.37-1.37c-.4-.4-.92-.59-1.43-.59-.52 0-1.04.2-1.43.59L10.3 9.45l-7.72 7.72c-.78.78-.78 2.05 0 2.83L4 21.41c.39.39.9.59 1.41.59.51 0 1.02-.2 1.41-.59l7.78-7.78 2.81-2.81c.8-.78.8-2.07 0-2.86zM5.41 20L4 18.59l7.72-7.72 1.47 1.35L5.41 20z\"/>\n",
              "  </svg>\n",
              "      </button>\n",
              "      \n",
              "  <style>\n",
              "    .colab-df-container {\n",
              "      display:flex;\n",
              "      flex-wrap:wrap;\n",
              "      gap: 12px;\n",
              "    }\n",
              "\n",
              "    .colab-df-convert {\n",
              "      background-color: #E8F0FE;\n",
              "      border: none;\n",
              "      border-radius: 50%;\n",
              "      cursor: pointer;\n",
              "      display: none;\n",
              "      fill: #1967D2;\n",
              "      height: 32px;\n",
              "      padding: 0 0 0 0;\n",
              "      width: 32px;\n",
              "    }\n",
              "\n",
              "    .colab-df-convert:hover {\n",
              "      background-color: #E2EBFA;\n",
              "      box-shadow: 0px 1px 2px rgba(60, 64, 67, 0.3), 0px 1px 3px 1px rgba(60, 64, 67, 0.15);\n",
              "      fill: #174EA6;\n",
              "    }\n",
              "\n",
              "    [theme=dark] .colab-df-convert {\n",
              "      background-color: #3B4455;\n",
              "      fill: #D2E3FC;\n",
              "    }\n",
              "\n",
              "    [theme=dark] .colab-df-convert:hover {\n",
              "      background-color: #434B5C;\n",
              "      box-shadow: 0px 1px 3px 1px rgba(0, 0, 0, 0.15);\n",
              "      filter: drop-shadow(0px 1px 2px rgba(0, 0, 0, 0.3));\n",
              "      fill: #FFFFFF;\n",
              "    }\n",
              "  </style>\n",
              "\n",
              "      <script>\n",
              "        const buttonEl =\n",
              "          document.querySelector('#df-55f37b63-fd4a-47ae-9360-be3af293fc8f button.colab-df-convert');\n",
              "        buttonEl.style.display =\n",
              "          google.colab.kernel.accessAllowed ? 'block' : 'none';\n",
              "\n",
              "        async function convertToInteractive(key) {\n",
              "          const element = document.querySelector('#df-55f37b63-fd4a-47ae-9360-be3af293fc8f');\n",
              "          const dataTable =\n",
              "            await google.colab.kernel.invokeFunction('convertToInteractive',\n",
              "                                                     [key], {});\n",
              "          if (!dataTable) return;\n",
              "\n",
              "          const docLinkHtml = 'Like what you see? Visit the ' +\n",
              "            '<a target=\"_blank\" href=https://colab.research.google.com/notebooks/data_table.ipynb>data table notebook</a>'\n",
              "            + ' to learn more about interactive tables.';\n",
              "          element.innerHTML = '';\n",
              "          dataTable['output_type'] = 'display_data';\n",
              "          await google.colab.output.renderOutput(dataTable, element);\n",
              "          const docLink = document.createElement('div');\n",
              "          docLink.innerHTML = docLinkHtml;\n",
              "          element.appendChild(docLink);\n",
              "        }\n",
              "      </script>\n",
              "    </div>\n",
              "  </div>\n",
              "  "
            ],
            "text/plain": [
              "                                           0             1\n",
              "15                         poly__garage_cars -13980.100429\n",
              "49   poly__mas_vnr_area actual_totrms_abvgrd -12712.508405\n",
              "5                           poly__fireplaces  -9646.965625\n",
              "3                           poly__1st_flr_sf  -7410.879185\n",
              "108             poly__g_gr_area bsmtfin_sf_1  -6565.607046\n",
              "..                                       ...           ...\n",
              "95             poly__full_bath total_bsmt_sf    -96.436738\n",
              "116         poly__bsmtfin_sf_1 total_bsmt_sf    -82.778781\n",
              "86            poly__fireplaces total_bsmt_sf    -32.214315\n",
              "123             poly__totrms_abvgrd total_sf    591.526952\n",
              "37              poly__overall_qual g_gr_area   1207.568354\n",
              "\n",
              "[137 rows x 2 columns]"
            ]
          },
          "execution_count": 85,
          "metadata": {},
          "output_type": "execute_result"
        }
      ],
      "source": [
        "temp.sort_values(by=1)"
      ]
    },
    {
      "cell_type": "markdown",
      "id": "J31cI6rALb1s",
      "metadata": {
        "id": "J31cI6rALb1s"
      },
      "source": [
        "## Elastic Net Model Hyperparam Tuning"
      ]
    },
    {
      "cell_type": "code",
      "execution_count": 86,
      "id": "0e446504",
      "metadata": {
        "colab": {
          "base_uri": "https://localhost:8080/"
        },
        "id": "0e446504",
        "outputId": "1d55e454-b7c0-4b2d-9619-89d7d3afd384"
      },
      "outputs": [
        {
          "name": "stdout",
          "output_type": "stream",
          "text": [
            "Train: 0.24332824798088082, Test: 0.18889245865974869, Best Score: 0.19252331403360898\n"
          ]
        },
        {
          "name": "stderr",
          "output_type": "stream",
          "text": [
            "/usr/local/lib/python3.7/dist-packages/sklearn/linear_model/_base.py:155: FutureWarning: 'normalize' was deprecated in version 1.0 and will be removed in 1.2. Please leave the normalize parameter to its default value to silence this warning. The default behavior of this estimator is to not do any normalization. If normalization is needed please use sklearn.preprocessing.StandardScaler instead.\n",
            "  FutureWarning,\n"
          ]
        }
      ],
      "source": [
        "elastic_net_p_params = {\n",
        "    'poly__poly__degree': [1, 2],\n",
        "    'poly__poly__include_bias': [True, False],\n",
        "    'poly__poly__interaction_only': [True, False],\n",
        "    'en__alpha': np.logspace(1, 10, 15),\n",
        "    'en__fit_intercept': [True, False],\n",
        "    'en__normalize': [True, False],\n",
        "}\n",
        "\n",
        "en_pipe = Pipeline([\n",
        "            ('poly', ct_poly), \n",
        "            ('ohe', ct_ohe), \n",
        "            ('ss', StandardScaler(with_mean=False)),\n",
        "            ('en', ElasticNet()), # use lasso to optimize parameter selection\n",
        "])\n",
        "\n",
        "elastic_net_gs = GridSearchCV( # use gridsearch to optimize feature selection\n",
        "    en_pipe, \n",
        "    elastic_net_p_params,\n",
        "    cv = 4,\n",
        "    n_jobs = -1\n",
        ")\n",
        "elastic_net_gs.fit(X_train, y_train)\n",
        "print(f'Train: {elastic_net_gs.score(X_train, y_train)}, Test: {elastic_net_gs.score(X_val, y_val)}, Best Score: {elastic_net_gs.best_score_}') "
      ]
    },
    {
      "cell_type": "code",
      "execution_count": 87,
      "id": "RP4wZL9PMm_G",
      "metadata": {
        "colab": {
          "base_uri": "https://localhost:8080/"
        },
        "id": "RP4wZL9PMm_G",
        "outputId": "49f7505f-3e58-4897-c607-68afad06050c"
      },
      "outputs": [
        {
          "data": {
            "text/plain": [
              "Pipeline(steps=[('poly',\n",
              "                 ColumnTransformer(remainder='passthrough',\n",
              "                                   transformers=[('poly',\n",
              "                                                  PolynomialFeatures(include_bias=False,\n",
              "                                                                     interaction_only=True),\n",
              "                                                  [0, 1, 2, 3, 4, 5, 6, 7, 8, 9,\n",
              "                                                   10, 11, 12, 13, 14, 15])])),\n",
              "                ('ohe',\n",
              "                 ColumnTransformer(transformers=[('ohe',\n",
              "                                                  OneHotEncoder(handle_unknown='ignore',\n",
              "                                                                sparse=False),\n",
              "                                                  [16])])),\n",
              "                ('ss', StandardScaler(with_mean=False)),\n",
              "                ('en', ElasticNet(alpha=10.0, normalize=False))])"
            ]
          },
          "execution_count": 87,
          "metadata": {},
          "output_type": "execute_result"
        }
      ],
      "source": [
        "elastic_net_gs.best_estimator_"
      ]
    },
    {
      "cell_type": "markdown",
      "id": "e25TT9A6Lp4B",
      "metadata": {
        "id": "e25TT9A6Lp4B"
      },
      "source": [
        "### Scoring"
      ]
    },
    {
      "cell_type": "code",
      "execution_count": 88,
      "id": "CPnpZlaYLtTv",
      "metadata": {
        "id": "CPnpZlaYLtTv"
      },
      "outputs": [],
      "source": [
        "preds_y = elastic_net_gs.predict(X_val)"
      ]
    },
    {
      "cell_type": "code",
      "execution_count": 89,
      "id": "nn7-kWPoMsjG",
      "metadata": {
        "colab": {
          "base_uri": "https://localhost:8080/"
        },
        "id": "nn7-kWPoMsjG",
        "outputId": "0e99d67f-c3c9-45c4-9e0b-8df80962edc7"
      },
      "outputs": [
        {
          "data": {
            "text/plain": [
              "0.18889245865974869"
            ]
          },
          "execution_count": 89,
          "metadata": {},
          "output_type": "execute_result"
        }
      ],
      "source": [
        "r2_score(y_val, preds_y) # how much of the varience that is explained by the model"
      ]
    },
    {
      "cell_type": "code",
      "execution_count": 90,
      "id": "RFgEWEUeMtIW",
      "metadata": {
        "colab": {
          "base_uri": "https://localhost:8080/"
        },
        "id": "RFgEWEUeMtIW",
        "outputId": "ec266500-3bee-4b91-8233-7894eb49d9ed"
      },
      "outputs": [
        {
          "data": {
            "text/plain": [
              "75183.15212887275"
            ]
          },
          "execution_count": 90,
          "metadata": {},
          "output_type": "execute_result"
        }
      ],
      "source": [
        "mean_squared_error(y_val, preds_y, squared=False)"
      ]
    },
    {
      "cell_type": "code",
      "execution_count": 91,
      "id": "wQ29gSEzNAGQ",
      "metadata": {
        "id": "wQ29gSEzNAGQ"
      },
      "outputs": [],
      "source": [
        "columns = elastic_net_gs.best_estimator_.named_steps['poly'].get_feature_names_out()\n",
        "coefs = elastic_net_gs.best_estimator_.named_steps['en'].coef_"
      ]
    },
    {
      "cell_type": "code",
      "execution_count": 92,
      "id": "dgEzS-fyNK_J",
      "metadata": {
        "id": "dgEzS-fyNK_J"
      },
      "outputs": [],
      "source": [
        "temp = pd.DataFrame(zip(columns, coefs))\n",
        "temp = temp[temp[1] != 0]"
      ]
    },
    {
      "cell_type": "code",
      "execution_count": 93,
      "id": "RRSlAvh3NL-d",
      "metadata": {
        "colab": {
          "base_uri": "https://localhost:8080/",
          "height": 423
        },
        "id": "RRSlAvh3NL-d",
        "outputId": "773a3ba5-be6f-451b-d778-3d85ba992902"
      },
      "outputs": [
        {
          "data": {
            "text/html": [
              "\n",
              "  <div id=\"df-219448bf-5e3a-429b-b607-af4caed4cc20\">\n",
              "    <div class=\"colab-df-container\">\n",
              "      <div>\n",
              "<style scoped>\n",
              "    .dataframe tbody tr th:only-of-type {\n",
              "        vertical-align: middle;\n",
              "    }\n",
              "\n",
              "    .dataframe tbody tr th {\n",
              "        vertical-align: top;\n",
              "    }\n",
              "\n",
              "    .dataframe thead th {\n",
              "        text-align: right;\n",
              "    }\n",
              "</style>\n",
              "<table border=\"1\" class=\"dataframe\">\n",
              "  <thead>\n",
              "    <tr style=\"text-align: right;\">\n",
              "      <th></th>\n",
              "      <th>0</th>\n",
              "      <th>1</th>\n",
              "    </tr>\n",
              "  </thead>\n",
              "  <tbody>\n",
              "    <tr>\n",
              "      <th>15</th>\n",
              "      <td>poly__garage_cars</td>\n",
              "      <td>-2529.722077</td>\n",
              "    </tr>\n",
              "    <tr>\n",
              "      <th>49</th>\n",
              "      <td>poly__mas_vnr_area actual_totrms_abvgrd</td>\n",
              "      <td>-2334.047992</td>\n",
              "    </tr>\n",
              "    <tr>\n",
              "      <th>5</th>\n",
              "      <td>poly__fireplaces</td>\n",
              "      <td>-1717.225254</td>\n",
              "    </tr>\n",
              "    <tr>\n",
              "      <th>3</th>\n",
              "      <td>poly__1st_flr_sf</td>\n",
              "      <td>-1313.493787</td>\n",
              "    </tr>\n",
              "    <tr>\n",
              "      <th>108</th>\n",
              "      <td>poly__g_gr_area bsmtfin_sf_1</td>\n",
              "      <td>-1186.920073</td>\n",
              "    </tr>\n",
              "    <tr>\n",
              "      <th>...</th>\n",
              "      <td>...</td>\n",
              "      <td>...</td>\n",
              "    </tr>\n",
              "    <tr>\n",
              "      <th>95</th>\n",
              "      <td>poly__full_bath total_bsmt_sf</td>\n",
              "      <td>-15.178836</td>\n",
              "    </tr>\n",
              "    <tr>\n",
              "      <th>116</th>\n",
              "      <td>poly__bsmtfin_sf_1 total_bsmt_sf</td>\n",
              "      <td>-12.756582</td>\n",
              "    </tr>\n",
              "    <tr>\n",
              "      <th>86</th>\n",
              "      <td>poly__fireplaces total_bsmt_sf</td>\n",
              "      <td>-4.103048</td>\n",
              "    </tr>\n",
              "    <tr>\n",
              "      <th>123</th>\n",
              "      <td>poly__totrms_abvgrd total_sf</td>\n",
              "      <td>104.724675</td>\n",
              "    </tr>\n",
              "    <tr>\n",
              "      <th>37</th>\n",
              "      <td>poly__overall_qual g_gr_area</td>\n",
              "      <td>213.512459</td>\n",
              "    </tr>\n",
              "  </tbody>\n",
              "</table>\n",
              "<p>137 rows × 2 columns</p>\n",
              "</div>\n",
              "      <button class=\"colab-df-convert\" onclick=\"convertToInteractive('df-219448bf-5e3a-429b-b607-af4caed4cc20')\"\n",
              "              title=\"Convert this dataframe to an interactive table.\"\n",
              "              style=\"display:none;\">\n",
              "        \n",
              "  <svg xmlns=\"http://www.w3.org/2000/svg\" height=\"24px\"viewBox=\"0 0 24 24\"\n",
              "       width=\"24px\">\n",
              "    <path d=\"M0 0h24v24H0V0z\" fill=\"none\"/>\n",
              "    <path d=\"M18.56 5.44l.94 2.06.94-2.06 2.06-.94-2.06-.94-.94-2.06-.94 2.06-2.06.94zm-11 1L8.5 8.5l.94-2.06 2.06-.94-2.06-.94L8.5 2.5l-.94 2.06-2.06.94zm10 10l.94 2.06.94-2.06 2.06-.94-2.06-.94-.94-2.06-.94 2.06-2.06.94z\"/><path d=\"M17.41 7.96l-1.37-1.37c-.4-.4-.92-.59-1.43-.59-.52 0-1.04.2-1.43.59L10.3 9.45l-7.72 7.72c-.78.78-.78 2.05 0 2.83L4 21.41c.39.39.9.59 1.41.59.51 0 1.02-.2 1.41-.59l7.78-7.78 2.81-2.81c.8-.78.8-2.07 0-2.86zM5.41 20L4 18.59l7.72-7.72 1.47 1.35L5.41 20z\"/>\n",
              "  </svg>\n",
              "      </button>\n",
              "      \n",
              "  <style>\n",
              "    .colab-df-container {\n",
              "      display:flex;\n",
              "      flex-wrap:wrap;\n",
              "      gap: 12px;\n",
              "    }\n",
              "\n",
              "    .colab-df-convert {\n",
              "      background-color: #E8F0FE;\n",
              "      border: none;\n",
              "      border-radius: 50%;\n",
              "      cursor: pointer;\n",
              "      display: none;\n",
              "      fill: #1967D2;\n",
              "      height: 32px;\n",
              "      padding: 0 0 0 0;\n",
              "      width: 32px;\n",
              "    }\n",
              "\n",
              "    .colab-df-convert:hover {\n",
              "      background-color: #E2EBFA;\n",
              "      box-shadow: 0px 1px 2px rgba(60, 64, 67, 0.3), 0px 1px 3px 1px rgba(60, 64, 67, 0.15);\n",
              "      fill: #174EA6;\n",
              "    }\n",
              "\n",
              "    [theme=dark] .colab-df-convert {\n",
              "      background-color: #3B4455;\n",
              "      fill: #D2E3FC;\n",
              "    }\n",
              "\n",
              "    [theme=dark] .colab-df-convert:hover {\n",
              "      background-color: #434B5C;\n",
              "      box-shadow: 0px 1px 3px 1px rgba(0, 0, 0, 0.15);\n",
              "      filter: drop-shadow(0px 1px 2px rgba(0, 0, 0, 0.3));\n",
              "      fill: #FFFFFF;\n",
              "    }\n",
              "  </style>\n",
              "\n",
              "      <script>\n",
              "        const buttonEl =\n",
              "          document.querySelector('#df-219448bf-5e3a-429b-b607-af4caed4cc20 button.colab-df-convert');\n",
              "        buttonEl.style.display =\n",
              "          google.colab.kernel.accessAllowed ? 'block' : 'none';\n",
              "\n",
              "        async function convertToInteractive(key) {\n",
              "          const element = document.querySelector('#df-219448bf-5e3a-429b-b607-af4caed4cc20');\n",
              "          const dataTable =\n",
              "            await google.colab.kernel.invokeFunction('convertToInteractive',\n",
              "                                                     [key], {});\n",
              "          if (!dataTable) return;\n",
              "\n",
              "          const docLinkHtml = 'Like what you see? Visit the ' +\n",
              "            '<a target=\"_blank\" href=https://colab.research.google.com/notebooks/data_table.ipynb>data table notebook</a>'\n",
              "            + ' to learn more about interactive tables.';\n",
              "          element.innerHTML = '';\n",
              "          dataTable['output_type'] = 'display_data';\n",
              "          await google.colab.output.renderOutput(dataTable, element);\n",
              "          const docLink = document.createElement('div');\n",
              "          docLink.innerHTML = docLinkHtml;\n",
              "          element.appendChild(docLink);\n",
              "        }\n",
              "      </script>\n",
              "    </div>\n",
              "  </div>\n",
              "  "
            ],
            "text/plain": [
              "                                           0            1\n",
              "15                         poly__garage_cars -2529.722077\n",
              "49   poly__mas_vnr_area actual_totrms_abvgrd -2334.047992\n",
              "5                           poly__fireplaces -1717.225254\n",
              "3                           poly__1st_flr_sf -1313.493787\n",
              "108             poly__g_gr_area bsmtfin_sf_1 -1186.920073\n",
              "..                                       ...          ...\n",
              "95             poly__full_bath total_bsmt_sf   -15.178836\n",
              "116         poly__bsmtfin_sf_1 total_bsmt_sf   -12.756582\n",
              "86            poly__fireplaces total_bsmt_sf    -4.103048\n",
              "123             poly__totrms_abvgrd total_sf   104.724675\n",
              "37              poly__overall_qual g_gr_area   213.512459\n",
              "\n",
              "[137 rows x 2 columns]"
            ]
          },
          "execution_count": 93,
          "metadata": {},
          "output_type": "execute_result"
        }
      ],
      "source": [
        "temp.sort_values(by=1)"
      ]
    },
    {
      "cell_type": "markdown",
      "id": "b2723a01-4b4c-45e2-844d-8cec32d16f09",
      "metadata": {
        "id": "b2723a01-4b4c-45e2-844d-8cec32d16f09"
      },
      "source": [
        "## Submission"
      ]
    },
    {
      "cell_type": "code",
      "execution_count": null,
      "id": "1a664b5c-62b0-4785-9fd7-ace0914df0c7",
      "metadata": {
        "id": "1a664b5c-62b0-4785-9fd7-ace0914df0c7"
      },
      "outputs": [],
      "source": [
        "# submission = pd.DataFrame()\n",
        "# submission['Id'] = test['id'].astype(int)\n",
        "# test.drop(columns = ['id', 'pid'], inplace = True)\n",
        "# preds = gs.predict(test[columns + ['actual_totrms_abvgrd', 'g_gr_area', 'total_sf', 'neighborhood', 'utilities']])\n",
        "# submission['SalePrice'] = preds\n",
        "# submission.to_csv('../../datasets/submissions/submission_5.csv', index = False)"
      ]
    }
  ],
  "metadata": {
    "accelerator": "GPU",
    "colab": {
      "collapsed_sections": [
        "ts_uxlDeLugj"
      ],
      "name": "lr_model.ipynb",
      "provenance": []
    },
    "interpreter": {
      "hash": "763c58dc754126fdcc508b9f4a084ccf790ec0f71a7031f5e40ea62c092b888e"
    },
    "kernelspec": {
      "display_name": "Python 3.9.12 ('SL_env')",
      "language": "python",
      "name": "python3"
    },
    "language_info": {
      "codemirror_mode": {
        "name": "ipython",
        "version": 3
      },
      "file_extension": ".py",
      "mimetype": "text/x-python",
      "name": "python",
      "nbconvert_exporter": "python",
      "pygments_lexer": "ipython3",
      "version": "3.9.12"
    }
  },
  "nbformat": 4,
  "nbformat_minor": 5
}
