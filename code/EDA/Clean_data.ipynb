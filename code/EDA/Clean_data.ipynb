{
 "cells": [
  {
   "cell_type": "markdown",
   "metadata": {},
   "source": [
    "# IMPORT LIBRARIES"
   ]
  },
  {
   "cell_type": "code",
   "execution_count": 1,
   "metadata": {},
   "outputs": [],
   "source": [
    "import pandas as pd\n",
    "import numpy as np"
   ]
  },
  {
   "cell_type": "markdown",
   "metadata": {},
   "source": [
    "# Data Preprocess"
   ]
  },
  {
   "cell_type": "markdown",
   "metadata": {},
   "source": [
    "## Helper Functions"
   ]
  },
  {
   "cell_type": "code",
   "execution_count": 2,
   "metadata": {},
   "outputs": [],
   "source": [
    "# dtype is consistent over all observations\n",
    "def consistent(df, col):\n",
    "    '''\n",
    "        gets a list and returns the first datatype\n",
    "    '''\n",
    "    for i in range(len(df)):\n",
    "        if  i == 0:\n",
    "            first_dtype = type(df.loc[i, col])\n",
    "        else:\n",
    "            if first_dtype != type(df.loc[i, col]): # case when not consistent\n",
    "                return False\n",
    "    return True\n",
    "\n",
    "def checktype_num(col_name, u_values):\n",
    "    '''\n",
    "        gets a list and returns the first datatype\n",
    "    '''\n",
    "    print(col_name)\n",
    "    for val in u_values:\n",
    "        if (isinstance(val, np.int64)) or (isinstance(val, np.float64)) or (isinstance(val, int)) or (isinstance(val, float)):\n",
    "            return True\n",
    "    return False\n",
    "\n",
    "\n",
    "\n",
    "def checktype_str(col_name, u_values):\n",
    "    '''\n",
    "        gets a list and returns the first datatype\n",
    "    '''\n",
    "    for val in u_values:\n",
    "        if (isinstance(val, str)):\n",
    "            return True\n",
    "    return False\n",
    "\n",
    "def col_values_info(df, col):\n",
    "    '''\n",
    "        function to find the unique values in a pandas df[col]:\n",
    "        unique values in col and there info\n",
    "    '''\n",
    "    shape = df.shape\n",
    "    unique_values = list(df[col].unique())\n",
    "    na_val = df[col].isna().sum()\n",
    "    len_list = len(unique_values)\n",
    "#     occr_val = [len(df[df[col] == j]) for j in unique_values]\n",
    "    is_consistent = consistent(df, col)\n",
    "    data_type = type(df[col].iloc[0])\n",
    "    values_counts = dict(df[col].value_counts(dropna=False))\n",
    "    \n",
    "    info = dict(col_name=col, values_counts=values_counts, num_na=na_val,\n",
    "                con_dtype = is_consistent, unq_col = (shape[0] == len_list))\n",
    "    return info\n",
    "\n",
    "def get_transform_list(df, info):\n",
    "    '''\n",
    "        returns columns that are continuous, categorical, categorical but not consistent dtype, numerical, numerical but not consistent dtype\n",
    "    '''\n",
    "    high_card = []\n",
    "#     [key for key, data in info.items() if data['unq_col']]\n",
    "    \n",
    "    numeric = [col for col in df.select_dtypes(include=['number']) if col not in high_card + ['saleprice'] ]\n",
    "    numeric_issue = [col for col in numeric if df[col].isna().sum() != 0]\n",
    "    numeric = [col for col in numeric if col not in numeric_issue]\n",
    "\n",
    "\n",
    "    categorical = [col for col in df.select_dtypes(exclude=['number'])]\n",
    "    categorical_issue = [col for col in categorical if df[col].isna().sum() != 0]\n",
    "    categorical = [col for col in categorical if col not in categorical_issue]\n",
    "    \n",
    "    # print(len(numeric_issue) + len(numeric) + len(categorical_issue) + len(categorical) + len(high_card))\n",
    "    return high_card, numeric, numeric_issue, categorical, categorical_issue\n",
    "\n",
    "def rows_to_change(df, col_list):\n",
    "    '''\n",
    "        Identifies:\n",
    "            col with small number of missing rows < 20%\n",
    "            col with large number of missing rows > 50%\n",
    "    '''\n",
    "    train_shape = df.shape\n",
    "    small_m_rows = []\n",
    "    large_m_rows = []\n",
    "    other_m_rows = []\n",
    "    for col in col_list:\n",
    "        # print(col)\n",
    "        if df[col].isna().sum() < (train_shape[0]*0.2): # col is missing less then 20% of values\n",
    "            small_m_rows.append(col)\n",
    "        elif df[col].isna().sum()  > (train_shape[0]*0.5): # col is missing more then 50% of values\n",
    "            large_m_rows.append(col)\n",
    "        else: # col is missing between 20% and 50% \n",
    "            other_m_rows.append(col)   \n",
    "    return small_m_rows, large_m_rows, other_m_rows\n",
    "\n",
    "def remove_outliers(df, columns, low=0.01, high=0.99):\n",
    "    '''\n",
    "        Removes outlier that are 1% from the left end data and 1% of the right end data\n",
    "    '''\n",
    "    for col in columns:\n",
    "        q_low = df[col].quantile(low)\n",
    "        q_hi  = df[col].quantile(high)\n",
    "        temp = df[(df[col] < q_hi) & (df[col] > q_low)]\n",
    "    return df"
   ]
  },
  {
   "cell_type": "markdown",
   "metadata": {},
   "source": [
    "## Import Data"
   ]
  },
  {
   "cell_type": "code",
   "execution_count": 3,
   "metadata": {},
   "outputs": [],
   "source": [
    "train = pd.read_csv('../../datasets/train.csv')\n",
    "test = pd.read_csv('../../datasets/test.csv')"
   ]
  },
  {
   "cell_type": "markdown",
   "metadata": {},
   "source": [
    "## Change Column Names to Lowercase"
   ]
  },
  {
   "cell_type": "code",
   "execution_count": 4,
   "metadata": {},
   "outputs": [],
   "source": [
    "train.columns = train.columns.str.lower().str.replace(' ', '_')\n",
    "test.columns = test.columns.str.lower().str.replace(' ', '_')"
   ]
  },
  {
   "cell_type": "markdown",
   "metadata": {},
   "source": [
    "## Get Columns with issues"
   ]
  },
  {
   "cell_type": "code",
   "execution_count": 5,
   "metadata": {},
   "outputs": [],
   "source": [
    "train_col_info = {i:col_values_info(train, str(i)) for i in train.columns}\n",
    "high_card, numeric, numeric_issue, categorical, categorical_issue = get_transform_list(train, train_col_info)\n",
    "\n",
    "test_col_info = {i:col_values_info(test, str(i)) for i in test.columns}\n",
    "high_card_test, numeric_test, numeric_issue_test_test, categorical_test, categorical_issue_test = get_transform_list(test, test_col_info)\n",
    "\n",
    "train_copy = train.copy()\n",
    "\n",
    "categorical_columns = categorical + categorical_issue\n",
    "numeric_columns = numeric + numeric_issue\n",
    "\n",
    "categorical_columns_test = categorical_test + categorical_issue_test\n",
    "numeric_columns_test = numeric_test + numeric_issue_test_test"
   ]
  },
  {
   "cell_type": "markdown",
   "metadata": {},
   "source": [
    "## Categorical Feature Data Preprocess"
   ]
  },
  {
   "cell_type": "code",
   "execution_count": 6,
   "metadata": {},
   "outputs": [],
   "source": [
    "cat_small_m, cat_large_m, cat_other_m = rows_to_change(train, categorical_issue)"
   ]
  },
  {
   "cell_type": "markdown",
   "metadata": {},
   "source": [
    "### Fill missing Values"
   ]
  },
  {
   "cell_type": "code",
   "execution_count": 7,
   "metadata": {},
   "outputs": [],
   "source": [
    "train_copy[cat_small_m] = train_copy[cat_small_m].fillna('None')\n",
    "test[cat_small_m] = test[cat_small_m].fillna('None')\n",
    "\n",
    "train_copy[cat_large_m] = train_copy[cat_large_m].fillna('None') \n",
    "test[cat_large_m] = test[cat_large_m].fillna('None')\n",
    "\n",
    "train_copy[cat_other_m] = train_copy[cat_other_m].fillna('None')\n",
    "test[cat_other_m] = test[cat_other_m].fillna('None')"
   ]
  },
  {
   "cell_type": "code",
   "execution_count": 8,
   "metadata": {},
   "outputs": [],
   "source": [
    "train_copy[categorical + categorical_issue] = train_copy[categorical + categorical_issue].astype('category')\n",
    "\n",
    "test[categorical + categorical_issue] = test[categorical + categorical_issue].astype('category')"
   ]
  },
  {
   "cell_type": "markdown",
   "metadata": {},
   "source": [
    "- **In terms of Filling in missing values for Categorical if houses dont have specific fetures then the values should be None**"
   ]
  },
  {
   "cell_type": "markdown",
   "metadata": {},
   "source": [
    "## Numeric Feature Data Preprocess"
   ]
  },
  {
   "cell_type": "code",
   "execution_count": 9,
   "metadata": {},
   "outputs": [],
   "source": [
    "num_small_m, num_large_m, num_other_m = rows_to_change(train, numeric_issue)"
   ]
  },
  {
   "cell_type": "markdown",
   "metadata": {},
   "source": [
    "### Fill missing Values"
   ]
  },
  {
   "cell_type": "code",
   "execution_count": 10,
   "metadata": {},
   "outputs": [],
   "source": [
    "train_copy[num_small_m] = train_copy[num_small_m].fillna(0)\n",
    "test[num_small_m] = test[num_small_m].fillna(0)"
   ]
  },
  {
   "cell_type": "markdown",
   "metadata": {},
   "source": [
    "### Change Data Type"
   ]
  },
  {
   "cell_type": "code",
   "execution_count": 11,
   "metadata": {},
   "outputs": [],
   "source": [
    "train_copy[numeric + numeric_issue] = train_copy[numeric + numeric_issue].astype(float)\n",
    "test[numeric + numeric_issue] = test[numeric + numeric_issue].astype(float)"
   ]
  },
  {
   "cell_type": "markdown",
   "metadata": {},
   "source": [
    "## Get High Correlated Columns with y"
   ]
  },
  {
   "cell_type": "code",
   "execution_count": 12,
   "metadata": {},
   "outputs": [],
   "source": [
    "def high_saleprice_corr_columns(df):\n",
    "    return [col for col, val in df.corr()['saleprice'].abs().iteritems() if val > 0.4 and col != 'saleprice']\n",
    "            \n",
    "columns = high_saleprice_corr_columns(train_copy)"
   ]
  },
  {
   "cell_type": "markdown",
   "metadata": {},
   "source": [
    "## Remove Outliers"
   ]
  },
  {
   "cell_type": "code",
   "execution_count": 13,
   "metadata": {},
   "outputs": [
    {
     "data": {
      "text/plain": [
       "Index(['id', 'pid', 'ms_subclass', 'ms_zoning', 'lot_frontage', 'lot_area',\n",
       "       'street', 'alley', 'lot_shape', 'land_contour', 'utilities',\n",
       "       'lot_config', 'land_slope', 'neighborhood', 'condition_1',\n",
       "       'condition_2', 'bldg_type', 'house_style', 'overall_qual',\n",
       "       'overall_cond', 'year_built', 'year_remod/add', 'roof_style',\n",
       "       'roof_matl', 'exterior_1st', 'exterior_2nd', 'mas_vnr_type',\n",
       "       'mas_vnr_area', 'exter_qual', 'exter_cond', 'foundation', 'bsmt_qual',\n",
       "       'bsmt_cond', 'bsmt_exposure', 'bsmtfin_type_1', 'bsmtfin_sf_1',\n",
       "       'bsmtfin_type_2', 'bsmtfin_sf_2', 'bsmt_unf_sf', 'total_bsmt_sf',\n",
       "       'heating', 'heating_qc', 'central_air', 'electrical', '1st_flr_sf',\n",
       "       '2nd_flr_sf', 'low_qual_fin_sf', 'gr_liv_area', 'bsmt_full_bath',\n",
       "       'bsmt_half_bath', 'full_bath', 'half_bath', 'bedroom_abvgr',\n",
       "       'kitchen_abvgr', 'kitchen_qual', 'totrms_abvgrd', 'functional',\n",
       "       'fireplaces', 'fireplace_qu', 'garage_type', 'garage_yr_blt',\n",
       "       'garage_finish', 'garage_cars', 'garage_area', 'garage_qual',\n",
       "       'garage_cond', 'paved_drive', 'wood_deck_sf', 'open_porch_sf',\n",
       "       'enclosed_porch', '3ssn_porch', 'screen_porch', 'pool_area', 'pool_qc',\n",
       "       'fence', 'misc_feature', 'misc_val', 'mo_sold', 'yr_sold', 'sale_type',\n",
       "       'saleprice'],\n",
       "      dtype='object')"
      ]
     },
     "execution_count": 13,
     "metadata": {},
     "output_type": "execute_result"
    }
   ],
   "source": [
    "train_copy = remove_outliers(train_copy, numeric + numeric_issue)\n",
    "train_copy.columns"
   ]
  },
  {
   "cell_type": "markdown",
   "metadata": {},
   "source": [
    "## Make Additional Features"
   ]
  },
  {
   "cell_type": "code",
   "execution_count": 14,
   "metadata": {},
   "outputs": [],
   "source": [
    "train_copy['actual_totrms_abvgrd'] = train_copy['totrms_abvgrd'] + train_copy['full_bath']\n",
    "train_copy['g_gr_area'] = train_copy['garage_area'] + train_copy['gr_liv_area']\n",
    "train_copy['total_sf'] = train_copy['1st_flr_sf'] + train_copy['total_bsmt_sf']\n",
    "\n",
    "test['actual_totrms_abvgrd'] = test['totrms_abvgrd'] + test['full_bath']\n",
    "test['g_gr_area'] = test['garage_area'] + test['gr_liv_area']\n",
    "test['total_sf'] = test['1st_flr_sf'] + test['total_bsmt_sf']"
   ]
  },
  {
   "cell_type": "markdown",
   "metadata": {},
   "source": [
    "## Write Cleaned Data to CSV"
   ]
  },
  {
   "cell_type": "code",
   "execution_count": 15,
   "metadata": {},
   "outputs": [],
   "source": [
    "train_copy.to_csv('../../datasets/cleaned_data/train_preproc.csv')\n",
    "test.to_csv('../../datasets/cleaned_data/test_preproc.csv')"
   ]
  }
 ],
 "metadata": {
  "interpreter": {
   "hash": "d1e6c26adc8bad395b004c18f56e59eec4f16088a73327fc7833d1c5c445ad10"
  },
  "kernelspec": {
   "display_name": "Python 3.9.12 ('DL_env')",
   "language": "python",
   "name": "python3"
  },
  "language_info": {
   "codemirror_mode": {
    "name": "ipython",
    "version": 3
   },
   "file_extension": ".py",
   "mimetype": "text/x-python",
   "name": "python",
   "nbconvert_exporter": "python",
   "pygments_lexer": "ipython3",
   "version": "3.9.12"
  },
  "orig_nbformat": 4
 },
 "nbformat": 4,
 "nbformat_minor": 2
}
